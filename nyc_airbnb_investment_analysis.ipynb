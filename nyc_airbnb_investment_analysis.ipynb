{
 "cells": [
  {
   "cell_type": "markdown",
   "metadata": {},
   "source": [
    "# Data Cleaning & Preprocessing"
   ]
  },
  {
   "cell_type": "code",
   "execution_count": 3,
   "metadata": {},
   "outputs": [],
   "source": [
    "import pandas as pd\n",
    "import numpy as np\n",
    "import seaborn as sns\n",
    "import matplotlib.pyplot as plt"
   ]
  },
  {
   "cell_type": "code",
   "execution_count": 4,
   "metadata": {},
   "outputs": [
    {
     "name": "stderr",
     "output_type": "stream",
     "text": [
      "C:\\Users\\Edy\\AppData\\Local\\Temp\\ipykernel_21268\\3975306117.py:1: DtypeWarning: Columns (25) have mixed types. Specify dtype option on import or set low_memory=False.\n",
      "  data = pd.read_csv('Airbnb_Open_Data.csv')\n"
     ]
    },
    {
     "data": {
      "text/html": [
       "<div>\n",
       "<style scoped>\n",
       "    .dataframe tbody tr th:only-of-type {\n",
       "        vertical-align: middle;\n",
       "    }\n",
       "\n",
       "    .dataframe tbody tr th {\n",
       "        vertical-align: top;\n",
       "    }\n",
       "\n",
       "    .dataframe thead th {\n",
       "        text-align: right;\n",
       "    }\n",
       "</style>\n",
       "<table border=\"1\" class=\"dataframe\">\n",
       "  <thead>\n",
       "    <tr style=\"text-align: right;\">\n",
       "      <th></th>\n",
       "      <th>id</th>\n",
       "      <th>NAME</th>\n",
       "      <th>host id</th>\n",
       "      <th>host_identity_verified</th>\n",
       "      <th>host name</th>\n",
       "      <th>neighbourhood group</th>\n",
       "      <th>neighbourhood</th>\n",
       "      <th>lat</th>\n",
       "      <th>long</th>\n",
       "      <th>country</th>\n",
       "      <th>...</th>\n",
       "      <th>service fee</th>\n",
       "      <th>minimum nights</th>\n",
       "      <th>number of reviews</th>\n",
       "      <th>last review</th>\n",
       "      <th>reviews per month</th>\n",
       "      <th>review rate number</th>\n",
       "      <th>calculated host listings count</th>\n",
       "      <th>availability 365</th>\n",
       "      <th>house_rules</th>\n",
       "      <th>license</th>\n",
       "    </tr>\n",
       "  </thead>\n",
       "  <tbody>\n",
       "    <tr>\n",
       "      <th>0</th>\n",
       "      <td>1001254</td>\n",
       "      <td>Clean &amp; quiet apt home by the park</td>\n",
       "      <td>80014485718</td>\n",
       "      <td>unconfirmed</td>\n",
       "      <td>Madaline</td>\n",
       "      <td>Brooklyn</td>\n",
       "      <td>Kensington</td>\n",
       "      <td>40.64749</td>\n",
       "      <td>-73.97237</td>\n",
       "      <td>United States</td>\n",
       "      <td>...</td>\n",
       "      <td>$193</td>\n",
       "      <td>10.0</td>\n",
       "      <td>9.0</td>\n",
       "      <td>10/19/2021</td>\n",
       "      <td>0.21</td>\n",
       "      <td>4.0</td>\n",
       "      <td>6.0</td>\n",
       "      <td>286.0</td>\n",
       "      <td>Clean up and treat the home the way you'd like...</td>\n",
       "      <td>NaN</td>\n",
       "    </tr>\n",
       "    <tr>\n",
       "      <th>1</th>\n",
       "      <td>1002102</td>\n",
       "      <td>Skylit Midtown Castle</td>\n",
       "      <td>52335172823</td>\n",
       "      <td>verified</td>\n",
       "      <td>Jenna</td>\n",
       "      <td>Manhattan</td>\n",
       "      <td>Midtown</td>\n",
       "      <td>40.75362</td>\n",
       "      <td>-73.98377</td>\n",
       "      <td>United States</td>\n",
       "      <td>...</td>\n",
       "      <td>$28</td>\n",
       "      <td>30.0</td>\n",
       "      <td>45.0</td>\n",
       "      <td>5/21/2022</td>\n",
       "      <td>0.38</td>\n",
       "      <td>4.0</td>\n",
       "      <td>2.0</td>\n",
       "      <td>228.0</td>\n",
       "      <td>Pet friendly but please confirm with me if the...</td>\n",
       "      <td>NaN</td>\n",
       "    </tr>\n",
       "    <tr>\n",
       "      <th>2</th>\n",
       "      <td>1002403</td>\n",
       "      <td>THE VILLAGE OF HARLEM....NEW YORK !</td>\n",
       "      <td>78829239556</td>\n",
       "      <td>NaN</td>\n",
       "      <td>Elise</td>\n",
       "      <td>Manhattan</td>\n",
       "      <td>Harlem</td>\n",
       "      <td>40.80902</td>\n",
       "      <td>-73.94190</td>\n",
       "      <td>United States</td>\n",
       "      <td>...</td>\n",
       "      <td>$124</td>\n",
       "      <td>3.0</td>\n",
       "      <td>0.0</td>\n",
       "      <td>NaN</td>\n",
       "      <td>NaN</td>\n",
       "      <td>5.0</td>\n",
       "      <td>1.0</td>\n",
       "      <td>352.0</td>\n",
       "      <td>I encourage you to use my kitchen, cooking and...</td>\n",
       "      <td>NaN</td>\n",
       "    </tr>\n",
       "    <tr>\n",
       "      <th>3</th>\n",
       "      <td>1002755</td>\n",
       "      <td>NaN</td>\n",
       "      <td>85098326012</td>\n",
       "      <td>unconfirmed</td>\n",
       "      <td>Garry</td>\n",
       "      <td>Brooklyn</td>\n",
       "      <td>Clinton Hill</td>\n",
       "      <td>40.68514</td>\n",
       "      <td>-73.95976</td>\n",
       "      <td>United States</td>\n",
       "      <td>...</td>\n",
       "      <td>$74</td>\n",
       "      <td>30.0</td>\n",
       "      <td>270.0</td>\n",
       "      <td>7/5/2019</td>\n",
       "      <td>4.64</td>\n",
       "      <td>4.0</td>\n",
       "      <td>1.0</td>\n",
       "      <td>322.0</td>\n",
       "      <td>NaN</td>\n",
       "      <td>NaN</td>\n",
       "    </tr>\n",
       "    <tr>\n",
       "      <th>4</th>\n",
       "      <td>1003689</td>\n",
       "      <td>Entire Apt: Spacious Studio/Loft by central park</td>\n",
       "      <td>92037596077</td>\n",
       "      <td>verified</td>\n",
       "      <td>Lyndon</td>\n",
       "      <td>Manhattan</td>\n",
       "      <td>East Harlem</td>\n",
       "      <td>40.79851</td>\n",
       "      <td>-73.94399</td>\n",
       "      <td>United States</td>\n",
       "      <td>...</td>\n",
       "      <td>$41</td>\n",
       "      <td>10.0</td>\n",
       "      <td>9.0</td>\n",
       "      <td>11/19/2018</td>\n",
       "      <td>0.10</td>\n",
       "      <td>3.0</td>\n",
       "      <td>1.0</td>\n",
       "      <td>289.0</td>\n",
       "      <td>Please no smoking in the house, porch or on th...</td>\n",
       "      <td>NaN</td>\n",
       "    </tr>\n",
       "  </tbody>\n",
       "</table>\n",
       "<p>5 rows × 26 columns</p>\n",
       "</div>"
      ],
      "text/plain": [
       "        id                                              NAME      host id  \\\n",
       "0  1001254                Clean & quiet apt home by the park  80014485718   \n",
       "1  1002102                             Skylit Midtown Castle  52335172823   \n",
       "2  1002403               THE VILLAGE OF HARLEM....NEW YORK !  78829239556   \n",
       "3  1002755                                               NaN  85098326012   \n",
       "4  1003689  Entire Apt: Spacious Studio/Loft by central park  92037596077   \n",
       "\n",
       "  host_identity_verified host name neighbourhood group neighbourhood  \\\n",
       "0            unconfirmed  Madaline            Brooklyn    Kensington   \n",
       "1               verified     Jenna           Manhattan       Midtown   \n",
       "2                    NaN     Elise           Manhattan        Harlem   \n",
       "3            unconfirmed     Garry            Brooklyn  Clinton Hill   \n",
       "4               verified    Lyndon           Manhattan   East Harlem   \n",
       "\n",
       "        lat      long        country  ... service fee minimum nights  \\\n",
       "0  40.64749 -73.97237  United States  ...       $193            10.0   \n",
       "1  40.75362 -73.98377  United States  ...        $28            30.0   \n",
       "2  40.80902 -73.94190  United States  ...       $124             3.0   \n",
       "3  40.68514 -73.95976  United States  ...        $74            30.0   \n",
       "4  40.79851 -73.94399  United States  ...        $41            10.0   \n",
       "\n",
       "  number of reviews last review  reviews per month review rate number  \\\n",
       "0               9.0  10/19/2021               0.21                4.0   \n",
       "1              45.0   5/21/2022               0.38                4.0   \n",
       "2               0.0         NaN                NaN                5.0   \n",
       "3             270.0    7/5/2019               4.64                4.0   \n",
       "4               9.0  11/19/2018               0.10                3.0   \n",
       "\n",
       "  calculated host listings count  availability 365  \\\n",
       "0                            6.0             286.0   \n",
       "1                            2.0             228.0   \n",
       "2                            1.0             352.0   \n",
       "3                            1.0             322.0   \n",
       "4                            1.0             289.0   \n",
       "\n",
       "                                         house_rules license  \n",
       "0  Clean up and treat the home the way you'd like...     NaN  \n",
       "1  Pet friendly but please confirm with me if the...     NaN  \n",
       "2  I encourage you to use my kitchen, cooking and...     NaN  \n",
       "3                                                NaN     NaN  \n",
       "4  Please no smoking in the house, porch or on th...     NaN  \n",
       "\n",
       "[5 rows x 26 columns]"
      ]
     },
     "execution_count": 4,
     "metadata": {},
     "output_type": "execute_result"
    }
   ],
   "source": [
    "data = pd.read_csv('Airbnb_Open_Data.csv')\n",
    "data.head(5)"
   ]
  },
  {
   "cell_type": "markdown",
   "metadata": {},
   "source": [
    "By running this code, we get a quick preview of our data. It allows us to see the column names and the types of values we’re working with, helping us understand the structure of the dataset before doing any further analysis."
   ]
  },
  {
   "cell_type": "code",
   "execution_count": 5,
   "metadata": {},
   "outputs": [
    {
     "data": {
      "text/html": [
       "<div>\n",
       "<style scoped>\n",
       "    .dataframe tbody tr th:only-of-type {\n",
       "        vertical-align: middle;\n",
       "    }\n",
       "\n",
       "    .dataframe tbody tr th {\n",
       "        vertical-align: top;\n",
       "    }\n",
       "\n",
       "    .dataframe thead th {\n",
       "        text-align: right;\n",
       "    }\n",
       "</style>\n",
       "<table border=\"1\" class=\"dataframe\">\n",
       "  <thead>\n",
       "    <tr style=\"text-align: right;\">\n",
       "      <th></th>\n",
       "      <th>id</th>\n",
       "      <th>NAME</th>\n",
       "      <th>host id</th>\n",
       "      <th>host_identity_verified</th>\n",
       "      <th>host name</th>\n",
       "      <th>neighbourhood group</th>\n",
       "      <th>neighbourhood</th>\n",
       "      <th>lat</th>\n",
       "      <th>long</th>\n",
       "      <th>country</th>\n",
       "      <th>...</th>\n",
       "      <th>service fee</th>\n",
       "      <th>minimum nights</th>\n",
       "      <th>number of reviews</th>\n",
       "      <th>last review</th>\n",
       "      <th>reviews per month</th>\n",
       "      <th>review rate number</th>\n",
       "      <th>calculated host listings count</th>\n",
       "      <th>availability 365</th>\n",
       "      <th>house_rules</th>\n",
       "      <th>license</th>\n",
       "    </tr>\n",
       "  </thead>\n",
       "  <tbody>\n",
       "    <tr>\n",
       "      <th>102594</th>\n",
       "      <td>6092437</td>\n",
       "      <td>Spare room in Williamsburg</td>\n",
       "      <td>12312296767</td>\n",
       "      <td>verified</td>\n",
       "      <td>Krik</td>\n",
       "      <td>Brooklyn</td>\n",
       "      <td>Williamsburg</td>\n",
       "      <td>40.70862</td>\n",
       "      <td>-73.94651</td>\n",
       "      <td>United States</td>\n",
       "      <td>...</td>\n",
       "      <td>$169</td>\n",
       "      <td>1.0</td>\n",
       "      <td>0.0</td>\n",
       "      <td>NaN</td>\n",
       "      <td>NaN</td>\n",
       "      <td>3.0</td>\n",
       "      <td>1.0</td>\n",
       "      <td>227.0</td>\n",
       "      <td>No Smoking No Parties or Events of any kind Pl...</td>\n",
       "      <td>NaN</td>\n",
       "    </tr>\n",
       "    <tr>\n",
       "      <th>102595</th>\n",
       "      <td>6092990</td>\n",
       "      <td>Best Location near Columbia U</td>\n",
       "      <td>77864383453</td>\n",
       "      <td>unconfirmed</td>\n",
       "      <td>Mifan</td>\n",
       "      <td>Manhattan</td>\n",
       "      <td>Morningside Heights</td>\n",
       "      <td>40.80460</td>\n",
       "      <td>-73.96545</td>\n",
       "      <td>United States</td>\n",
       "      <td>...</td>\n",
       "      <td>$167</td>\n",
       "      <td>1.0</td>\n",
       "      <td>1.0</td>\n",
       "      <td>7/6/2015</td>\n",
       "      <td>0.02</td>\n",
       "      <td>2.0</td>\n",
       "      <td>2.0</td>\n",
       "      <td>395.0</td>\n",
       "      <td>House rules: Guests agree to the following ter...</td>\n",
       "      <td>NaN</td>\n",
       "    </tr>\n",
       "    <tr>\n",
       "      <th>102596</th>\n",
       "      <td>6093542</td>\n",
       "      <td>Comfy, bright room in Brooklyn</td>\n",
       "      <td>69050334417</td>\n",
       "      <td>unconfirmed</td>\n",
       "      <td>Megan</td>\n",
       "      <td>Brooklyn</td>\n",
       "      <td>Park Slope</td>\n",
       "      <td>40.67505</td>\n",
       "      <td>-73.98045</td>\n",
       "      <td>United States</td>\n",
       "      <td>...</td>\n",
       "      <td>$198</td>\n",
       "      <td>3.0</td>\n",
       "      <td>0.0</td>\n",
       "      <td>NaN</td>\n",
       "      <td>NaN</td>\n",
       "      <td>5.0</td>\n",
       "      <td>1.0</td>\n",
       "      <td>342.0</td>\n",
       "      <td>NaN</td>\n",
       "      <td>NaN</td>\n",
       "    </tr>\n",
       "    <tr>\n",
       "      <th>102597</th>\n",
       "      <td>6094094</td>\n",
       "      <td>Big Studio-One Stop from Midtown</td>\n",
       "      <td>11160591270</td>\n",
       "      <td>unconfirmed</td>\n",
       "      <td>Christopher</td>\n",
       "      <td>Queens</td>\n",
       "      <td>Long Island City</td>\n",
       "      <td>40.74989</td>\n",
       "      <td>-73.93777</td>\n",
       "      <td>United States</td>\n",
       "      <td>...</td>\n",
       "      <td>$109</td>\n",
       "      <td>2.0</td>\n",
       "      <td>5.0</td>\n",
       "      <td>10/11/2015</td>\n",
       "      <td>0.10</td>\n",
       "      <td>3.0</td>\n",
       "      <td>1.0</td>\n",
       "      <td>386.0</td>\n",
       "      <td>NaN</td>\n",
       "      <td>NaN</td>\n",
       "    </tr>\n",
       "    <tr>\n",
       "      <th>102598</th>\n",
       "      <td>6094647</td>\n",
       "      <td>585 sf Luxury Studio</td>\n",
       "      <td>68170633372</td>\n",
       "      <td>unconfirmed</td>\n",
       "      <td>Rebecca</td>\n",
       "      <td>Manhattan</td>\n",
       "      <td>Upper West Side</td>\n",
       "      <td>40.76807</td>\n",
       "      <td>-73.98342</td>\n",
       "      <td>United States</td>\n",
       "      <td>...</td>\n",
       "      <td>$206</td>\n",
       "      <td>1.0</td>\n",
       "      <td>0.0</td>\n",
       "      <td>NaN</td>\n",
       "      <td>NaN</td>\n",
       "      <td>3.0</td>\n",
       "      <td>1.0</td>\n",
       "      <td>69.0</td>\n",
       "      <td>NaN</td>\n",
       "      <td>NaN</td>\n",
       "    </tr>\n",
       "  </tbody>\n",
       "</table>\n",
       "<p>5 rows × 26 columns</p>\n",
       "</div>"
      ],
      "text/plain": [
       "             id                              NAME      host id  \\\n",
       "102594  6092437        Spare room in Williamsburg  12312296767   \n",
       "102595  6092990     Best Location near Columbia U  77864383453   \n",
       "102596  6093542    Comfy, bright room in Brooklyn  69050334417   \n",
       "102597  6094094  Big Studio-One Stop from Midtown  11160591270   \n",
       "102598  6094647              585 sf Luxury Studio  68170633372   \n",
       "\n",
       "       host_identity_verified    host name neighbourhood group  \\\n",
       "102594               verified         Krik            Brooklyn   \n",
       "102595            unconfirmed        Mifan           Manhattan   \n",
       "102596            unconfirmed        Megan            Brooklyn   \n",
       "102597            unconfirmed  Christopher              Queens   \n",
       "102598            unconfirmed      Rebecca           Manhattan   \n",
       "\n",
       "              neighbourhood       lat      long        country  ...  \\\n",
       "102594         Williamsburg  40.70862 -73.94651  United States  ...   \n",
       "102595  Morningside Heights  40.80460 -73.96545  United States  ...   \n",
       "102596           Park Slope  40.67505 -73.98045  United States  ...   \n",
       "102597     Long Island City  40.74989 -73.93777  United States  ...   \n",
       "102598      Upper West Side  40.76807 -73.98342  United States  ...   \n",
       "\n",
       "       service fee minimum nights number of reviews last review  \\\n",
       "102594       $169             1.0               0.0         NaN   \n",
       "102595       $167             1.0               1.0    7/6/2015   \n",
       "102596       $198             3.0               0.0         NaN   \n",
       "102597       $109             2.0               5.0  10/11/2015   \n",
       "102598       $206             1.0               0.0         NaN   \n",
       "\n",
       "        reviews per month review rate number calculated host listings count  \\\n",
       "102594                NaN                3.0                            1.0   \n",
       "102595               0.02                2.0                            2.0   \n",
       "102596                NaN                5.0                            1.0   \n",
       "102597               0.10                3.0                            1.0   \n",
       "102598                NaN                3.0                            1.0   \n",
       "\n",
       "        availability 365                                        house_rules  \\\n",
       "102594             227.0  No Smoking No Parties or Events of any kind Pl...   \n",
       "102595             395.0  House rules: Guests agree to the following ter...   \n",
       "102596             342.0                                                NaN   \n",
       "102597             386.0                                                NaN   \n",
       "102598              69.0                                                NaN   \n",
       "\n",
       "       license  \n",
       "102594     NaN  \n",
       "102595     NaN  \n",
       "102596     NaN  \n",
       "102597     NaN  \n",
       "102598     NaN  \n",
       "\n",
       "[5 rows x 26 columns]"
      ]
     },
     "execution_count": 5,
     "metadata": {},
     "output_type": "execute_result"
    }
   ],
   "source": [
    "data.tail()"
   ]
  },
  {
   "cell_type": "markdown",
   "metadata": {},
   "source": [
    "This helps us check how our dataset ends."
   ]
  },
  {
   "cell_type": "code",
   "execution_count": 6,
   "metadata": {},
   "outputs": [
    {
     "data": {
      "text/plain": [
       "(102599, 26)"
      ]
     },
     "execution_count": 6,
     "metadata": {},
     "output_type": "execute_result"
    }
   ],
   "source": [
    "data.shape"
   ]
  },
  {
   "cell_type": "markdown",
   "metadata": {},
   "source": [
    "The output is a tuple in the form (rows, columns). This tells us how many entries (rows) and features (columns) our dataset contains. It's useful for understanding the dataset's size."
   ]
  },
  {
   "cell_type": "code",
   "execution_count": 7,
   "metadata": {},
   "outputs": [
    {
     "name": "stdout",
     "output_type": "stream",
     "text": [
      "<class 'pandas.core.frame.DataFrame'>\n",
      "RangeIndex: 102599 entries, 0 to 102598\n",
      "Data columns (total 26 columns):\n",
      " #   Column                          Non-Null Count   Dtype  \n",
      "---  ------                          --------------   -----  \n",
      " 0   id                              102599 non-null  int64  \n",
      " 1   NAME                            102349 non-null  object \n",
      " 2   host id                         102599 non-null  int64  \n",
      " 3   host_identity_verified          102310 non-null  object \n",
      " 4   host name                       102193 non-null  object \n",
      " 5   neighbourhood group             102570 non-null  object \n",
      " 6   neighbourhood                   102583 non-null  object \n",
      " 7   lat                             102591 non-null  float64\n",
      " 8   long                            102591 non-null  float64\n",
      " 9   country                         102067 non-null  object \n",
      " 10  country code                    102468 non-null  object \n",
      " 11  instant_bookable                102494 non-null  object \n",
      " 12  cancellation_policy             102523 non-null  object \n",
      " 13  room type                       102599 non-null  object \n",
      " 14  Construction year               102385 non-null  float64\n",
      " 15  price                           102352 non-null  object \n",
      " 16  service fee                     102326 non-null  object \n",
      " 17  minimum nights                  102190 non-null  float64\n",
      " 18  number of reviews               102416 non-null  float64\n",
      " 19  last review                     86706 non-null   object \n",
      " 20  reviews per month               86720 non-null   float64\n",
      " 21  review rate number              102273 non-null  float64\n",
      " 22  calculated host listings count  102280 non-null  float64\n",
      " 23  availability 365                102151 non-null  float64\n",
      " 24  house_rules                     50468 non-null   object \n",
      " 25  license                         2 non-null       object \n",
      "dtypes: float64(9), int64(2), object(15)\n",
      "memory usage: 20.4+ MB\n"
     ]
    }
   ],
   "source": [
    "data.info()"
   ]
  },
  {
   "cell_type": "markdown",
   "metadata": {},
   "source": [
    "This helps us identify missing values and understand the data types of each column (ex: int, float, object). It gives us a clear overview of what kind of data we’re working with. We learn the following about our dataset:\n",
    "\n",
    "- It has 102,599 rows and 26 columns.\n",
    "- Some columns contain missing values (ex: license has only 2 non-null values).\n",
    "- Most columns have the correct data types, but there are a few issues:\n",
    "\n",
    "1. **price** and **service fee** are stored as object instead of float : This error occurs because of the $ symbol used in the two columns.\n",
    "2. **last review** is an object, but it represents dates : We should convert it to datetime\n",
    "\n"
   ]
  },
  {
   "cell_type": "code",
   "execution_count": 8,
   "metadata": {},
   "outputs": [],
   "source": [
    "data['price'] = data['price'].replace('[\\$,]','', regex = True).astype(float)\n",
    "data['service fee'] = data['service fee'].replace('[\\$,]','', regex = True).astype(float)\n",
    "data['last review'] = pd.to_datetime(data['last review'], errors = 'coerce')"
   ]
  },
  {
   "cell_type": "markdown",
   "metadata": {},
   "source": [
    "We clean the **price** and **service fee** columns by removing dollar signs ($) using regex, then convert the cleaned strings to float. We also convert the **last review** column to datetime format, using errors='coerce' to handle invalid or missing dates."
   ]
  },
  {
   "cell_type": "code",
   "execution_count": 9,
   "metadata": {},
   "outputs": [
    {
     "data": {
      "text/html": [
       "<div>\n",
       "<style scoped>\n",
       "    .dataframe tbody tr th:only-of-type {\n",
       "        vertical-align: middle;\n",
       "    }\n",
       "\n",
       "    .dataframe tbody tr th {\n",
       "        vertical-align: top;\n",
       "    }\n",
       "\n",
       "    .dataframe thead th {\n",
       "        text-align: right;\n",
       "    }\n",
       "</style>\n",
       "<table border=\"1\" class=\"dataframe\">\n",
       "  <thead>\n",
       "    <tr style=\"text-align: right;\">\n",
       "      <th></th>\n",
       "      <th>price</th>\n",
       "      <th>service fee</th>\n",
       "      <th>last review</th>\n",
       "    </tr>\n",
       "  </thead>\n",
       "  <tbody>\n",
       "    <tr>\n",
       "      <th>0</th>\n",
       "      <td>966.0</td>\n",
       "      <td>193.0</td>\n",
       "      <td>2021-10-19</td>\n",
       "    </tr>\n",
       "    <tr>\n",
       "      <th>1</th>\n",
       "      <td>142.0</td>\n",
       "      <td>28.0</td>\n",
       "      <td>2022-05-21</td>\n",
       "    </tr>\n",
       "    <tr>\n",
       "      <th>2</th>\n",
       "      <td>620.0</td>\n",
       "      <td>124.0</td>\n",
       "      <td>NaT</td>\n",
       "    </tr>\n",
       "    <tr>\n",
       "      <th>3</th>\n",
       "      <td>368.0</td>\n",
       "      <td>74.0</td>\n",
       "      <td>2019-07-05</td>\n",
       "    </tr>\n",
       "    <tr>\n",
       "      <th>4</th>\n",
       "      <td>204.0</td>\n",
       "      <td>41.0</td>\n",
       "      <td>2018-11-19</td>\n",
       "    </tr>\n",
       "    <tr>\n",
       "      <th>5</th>\n",
       "      <td>577.0</td>\n",
       "      <td>115.0</td>\n",
       "      <td>2019-06-22</td>\n",
       "    </tr>\n",
       "    <tr>\n",
       "      <th>6</th>\n",
       "      <td>71.0</td>\n",
       "      <td>14.0</td>\n",
       "      <td>2017-10-05</td>\n",
       "    </tr>\n",
       "    <tr>\n",
       "      <th>7</th>\n",
       "      <td>1060.0</td>\n",
       "      <td>212.0</td>\n",
       "      <td>2017-10-05</td>\n",
       "    </tr>\n",
       "    <tr>\n",
       "      <th>8</th>\n",
       "      <td>1018.0</td>\n",
       "      <td>204.0</td>\n",
       "      <td>2019-06-24</td>\n",
       "    </tr>\n",
       "    <tr>\n",
       "      <th>9</th>\n",
       "      <td>291.0</td>\n",
       "      <td>58.0</td>\n",
       "      <td>2017-07-21</td>\n",
       "    </tr>\n",
       "  </tbody>\n",
       "</table>\n",
       "</div>"
      ],
      "text/plain": [
       "    price  service fee last review\n",
       "0   966.0        193.0  2021-10-19\n",
       "1   142.0         28.0  2022-05-21\n",
       "2   620.0        124.0         NaT\n",
       "3   368.0         74.0  2019-07-05\n",
       "4   204.0         41.0  2018-11-19\n",
       "5   577.0        115.0  2019-06-22\n",
       "6    71.0         14.0  2017-10-05\n",
       "7  1060.0        212.0  2017-10-05\n",
       "8  1018.0        204.0  2019-06-24\n",
       "9   291.0         58.0  2017-07-21"
      ]
     },
     "execution_count": 9,
     "metadata": {},
     "output_type": "execute_result"
    }
   ],
   "source": [
    "data[['price','service fee', 'last review']].head(10)"
   ]
  },
  {
   "cell_type": "markdown",
   "metadata": {},
   "source": [
    "We display the first 10 rows of the **price**, **service fee**, and **last review** columns to verify that the cleaning and conversion steps were successful. After running this line, we can see that **price** and **service fee** now appear as numeric values and **last review** values are in proper date format."
   ]
  },
  {
   "cell_type": "code",
   "execution_count": 10,
   "metadata": {},
   "outputs": [
    {
     "data": {
      "text/html": [
       "<div>\n",
       "<style scoped>\n",
       "    .dataframe tbody tr th:only-of-type {\n",
       "        vertical-align: middle;\n",
       "    }\n",
       "\n",
       "    .dataframe tbody tr th {\n",
       "        vertical-align: top;\n",
       "    }\n",
       "\n",
       "    .dataframe thead th {\n",
       "        text-align: right;\n",
       "    }\n",
       "</style>\n",
       "<table border=\"1\" class=\"dataframe\">\n",
       "  <thead>\n",
       "    <tr style=\"text-align: right;\">\n",
       "      <th></th>\n",
       "      <th>id</th>\n",
       "      <th>host id</th>\n",
       "      <th>lat</th>\n",
       "      <th>long</th>\n",
       "      <th>Construction year</th>\n",
       "      <th>price</th>\n",
       "      <th>service fee</th>\n",
       "      <th>minimum nights</th>\n",
       "      <th>number of reviews</th>\n",
       "      <th>last review</th>\n",
       "      <th>reviews per month</th>\n",
       "      <th>review rate number</th>\n",
       "      <th>calculated host listings count</th>\n",
       "      <th>availability 365</th>\n",
       "    </tr>\n",
       "  </thead>\n",
       "  <tbody>\n",
       "    <tr>\n",
       "      <th>count</th>\n",
       "      <td>1.025990e+05</td>\n",
       "      <td>1.025990e+05</td>\n",
       "      <td>102591.000000</td>\n",
       "      <td>102591.000000</td>\n",
       "      <td>102385.000000</td>\n",
       "      <td>102352.000000</td>\n",
       "      <td>102326.000000</td>\n",
       "      <td>102190.000000</td>\n",
       "      <td>102416.000000</td>\n",
       "      <td>86706</td>\n",
       "      <td>86720.000000</td>\n",
       "      <td>102273.000000</td>\n",
       "      <td>102280.000000</td>\n",
       "      <td>102151.000000</td>\n",
       "    </tr>\n",
       "    <tr>\n",
       "      <th>mean</th>\n",
       "      <td>2.914623e+07</td>\n",
       "      <td>4.925411e+10</td>\n",
       "      <td>40.728094</td>\n",
       "      <td>-73.949644</td>\n",
       "      <td>2012.487464</td>\n",
       "      <td>625.293536</td>\n",
       "      <td>125.026924</td>\n",
       "      <td>8.135845</td>\n",
       "      <td>27.483743</td>\n",
       "      <td>2019-06-12 03:40:52.065601024</td>\n",
       "      <td>1.374022</td>\n",
       "      <td>3.279106</td>\n",
       "      <td>7.936605</td>\n",
       "      <td>141.133254</td>\n",
       "    </tr>\n",
       "    <tr>\n",
       "      <th>min</th>\n",
       "      <td>1.001254e+06</td>\n",
       "      <td>1.236005e+08</td>\n",
       "      <td>40.499790</td>\n",
       "      <td>-74.249840</td>\n",
       "      <td>2003.000000</td>\n",
       "      <td>50.000000</td>\n",
       "      <td>10.000000</td>\n",
       "      <td>-1223.000000</td>\n",
       "      <td>0.000000</td>\n",
       "      <td>2012-07-11 00:00:00</td>\n",
       "      <td>0.010000</td>\n",
       "      <td>1.000000</td>\n",
       "      <td>1.000000</td>\n",
       "      <td>-10.000000</td>\n",
       "    </tr>\n",
       "    <tr>\n",
       "      <th>25%</th>\n",
       "      <td>1.508581e+07</td>\n",
       "      <td>2.458333e+10</td>\n",
       "      <td>40.688740</td>\n",
       "      <td>-73.982580</td>\n",
       "      <td>2007.000000</td>\n",
       "      <td>340.000000</td>\n",
       "      <td>68.000000</td>\n",
       "      <td>2.000000</td>\n",
       "      <td>1.000000</td>\n",
       "      <td>2018-10-28 00:00:00</td>\n",
       "      <td>0.220000</td>\n",
       "      <td>2.000000</td>\n",
       "      <td>1.000000</td>\n",
       "      <td>3.000000</td>\n",
       "    </tr>\n",
       "    <tr>\n",
       "      <th>50%</th>\n",
       "      <td>2.913660e+07</td>\n",
       "      <td>4.911774e+10</td>\n",
       "      <td>40.722290</td>\n",
       "      <td>-73.954440</td>\n",
       "      <td>2012.000000</td>\n",
       "      <td>624.000000</td>\n",
       "      <td>125.000000</td>\n",
       "      <td>3.000000</td>\n",
       "      <td>7.000000</td>\n",
       "      <td>2019-06-14 00:00:00</td>\n",
       "      <td>0.740000</td>\n",
       "      <td>3.000000</td>\n",
       "      <td>1.000000</td>\n",
       "      <td>96.000000</td>\n",
       "    </tr>\n",
       "    <tr>\n",
       "      <th>75%</th>\n",
       "      <td>4.320120e+07</td>\n",
       "      <td>7.399650e+10</td>\n",
       "      <td>40.762760</td>\n",
       "      <td>-73.932350</td>\n",
       "      <td>2017.000000</td>\n",
       "      <td>913.000000</td>\n",
       "      <td>183.000000</td>\n",
       "      <td>5.000000</td>\n",
       "      <td>30.000000</td>\n",
       "      <td>2019-07-05 00:00:00</td>\n",
       "      <td>2.000000</td>\n",
       "      <td>4.000000</td>\n",
       "      <td>2.000000</td>\n",
       "      <td>269.000000</td>\n",
       "    </tr>\n",
       "    <tr>\n",
       "      <th>max</th>\n",
       "      <td>5.736742e+07</td>\n",
       "      <td>9.876313e+10</td>\n",
       "      <td>40.916970</td>\n",
       "      <td>-73.705220</td>\n",
       "      <td>2022.000000</td>\n",
       "      <td>1200.000000</td>\n",
       "      <td>240.000000</td>\n",
       "      <td>5645.000000</td>\n",
       "      <td>1024.000000</td>\n",
       "      <td>2058-06-16 00:00:00</td>\n",
       "      <td>90.000000</td>\n",
       "      <td>5.000000</td>\n",
       "      <td>332.000000</td>\n",
       "      <td>3677.000000</td>\n",
       "    </tr>\n",
       "    <tr>\n",
       "      <th>std</th>\n",
       "      <td>1.625751e+07</td>\n",
       "      <td>2.853900e+10</td>\n",
       "      <td>0.055857</td>\n",
       "      <td>0.049521</td>\n",
       "      <td>5.765556</td>\n",
       "      <td>331.671614</td>\n",
       "      <td>66.325739</td>\n",
       "      <td>30.553781</td>\n",
       "      <td>49.508954</td>\n",
       "      <td>NaN</td>\n",
       "      <td>1.746621</td>\n",
       "      <td>1.284657</td>\n",
       "      <td>32.218780</td>\n",
       "      <td>135.435024</td>\n",
       "    </tr>\n",
       "  </tbody>\n",
       "</table>\n",
       "</div>"
      ],
      "text/plain": [
       "                 id       host id            lat           long  \\\n",
       "count  1.025990e+05  1.025990e+05  102591.000000  102591.000000   \n",
       "mean   2.914623e+07  4.925411e+10      40.728094     -73.949644   \n",
       "min    1.001254e+06  1.236005e+08      40.499790     -74.249840   \n",
       "25%    1.508581e+07  2.458333e+10      40.688740     -73.982580   \n",
       "50%    2.913660e+07  4.911774e+10      40.722290     -73.954440   \n",
       "75%    4.320120e+07  7.399650e+10      40.762760     -73.932350   \n",
       "max    5.736742e+07  9.876313e+10      40.916970     -73.705220   \n",
       "std    1.625751e+07  2.853900e+10       0.055857       0.049521   \n",
       "\n",
       "       Construction year          price    service fee  minimum nights  \\\n",
       "count      102385.000000  102352.000000  102326.000000   102190.000000   \n",
       "mean         2012.487464     625.293536     125.026924        8.135845   \n",
       "min          2003.000000      50.000000      10.000000    -1223.000000   \n",
       "25%          2007.000000     340.000000      68.000000        2.000000   \n",
       "50%          2012.000000     624.000000     125.000000        3.000000   \n",
       "75%          2017.000000     913.000000     183.000000        5.000000   \n",
       "max          2022.000000    1200.000000     240.000000     5645.000000   \n",
       "std             5.765556     331.671614      66.325739       30.553781   \n",
       "\n",
       "       number of reviews                    last review  reviews per month  \\\n",
       "count      102416.000000                          86706       86720.000000   \n",
       "mean           27.483743  2019-06-12 03:40:52.065601024           1.374022   \n",
       "min             0.000000            2012-07-11 00:00:00           0.010000   \n",
       "25%             1.000000            2018-10-28 00:00:00           0.220000   \n",
       "50%             7.000000            2019-06-14 00:00:00           0.740000   \n",
       "75%            30.000000            2019-07-05 00:00:00           2.000000   \n",
       "max          1024.000000            2058-06-16 00:00:00          90.000000   \n",
       "std            49.508954                            NaN           1.746621   \n",
       "\n",
       "       review rate number  calculated host listings count  availability 365  \n",
       "count       102273.000000                   102280.000000     102151.000000  \n",
       "mean             3.279106                        7.936605        141.133254  \n",
       "min              1.000000                        1.000000        -10.000000  \n",
       "25%              2.000000                        1.000000          3.000000  \n",
       "50%              3.000000                        1.000000         96.000000  \n",
       "75%              4.000000                        2.000000        269.000000  \n",
       "max              5.000000                      332.000000       3677.000000  \n",
       "std              1.284657                       32.218780        135.435024  "
      ]
     },
     "execution_count": 10,
     "metadata": {},
     "output_type": "execute_result"
    }
   ],
   "source": [
    "data.describe()"
   ]
  },
  {
   "cell_type": "markdown",
   "metadata": {},
   "source": [
    "We use data.describe() to generate summary statistics for the numeric columns in our dataset. This includes count, mean, standard deviation, min, max and the 25th, 50th (median) and 75th percentiles. It helps us quickly understand the distribution and detect potential anomalies or outliers. Issues observed from the output:\n",
    "- **minimum nights**\n",
    "1. Min value: -1223.0 — This is invalid, as the number of minimum nights cannot be negative.\n",
    "2. Max value: 5645.0 — This is highly unusual and may represent bad data.\n",
    "\n",
    "- **last review**\n",
    "1. Max value: 2058-06-16 — This is a future date, which is likely incorrect or a data entry error.\n",
    "\n",
    "- **availability_365**\n",
    "1. Min value: -10.0 — This is invalid. Availability cannot be negative.\n",
    "2. Max value: 3677.0 — The value exceeds the number of days in a year "
   ]
  },
  {
   "cell_type": "code",
   "execution_count": 11,
   "metadata": {},
   "outputs": [],
   "source": [
    "data.drop(['NAME', 'host name', 'house_rules', 'license'], axis = 1, inplace = True)"
   ]
  },
  {
   "cell_type": "markdown",
   "metadata": {},
   "source": [
    "We drop the columns **NAME**, **host name**, **house_rules**, and **license** from our dataset because they are not useful for our analysis. We use axis=1 to indicate that we're dropping columns, and inplace=True to apply the change directly to the original DataFrame."
   ]
  },
  {
   "cell_type": "code",
   "execution_count": 12,
   "metadata": {},
   "outputs": [
    {
     "data": {
      "text/plain": [
       "id                                    0\n",
       "host id                               0\n",
       "host_identity_verified              289\n",
       "neighbourhood group                  29\n",
       "neighbourhood                        16\n",
       "lat                                   8\n",
       "long                                  8\n",
       "country                             532\n",
       "country code                        131\n",
       "instant_bookable                    105\n",
       "cancellation_policy                  76\n",
       "room type                             0\n",
       "Construction year                   214\n",
       "price                               247\n",
       "service fee                         273\n",
       "minimum nights                      409\n",
       "number of reviews                   183\n",
       "last review                       15893\n",
       "reviews per month                 15879\n",
       "review rate number                  326\n",
       "calculated host listings count      319\n",
       "availability 365                    448\n",
       "dtype: int64"
      ]
     },
     "execution_count": 12,
     "metadata": {},
     "output_type": "execute_result"
    }
   ],
   "source": [
    "data.isnull().sum()"
   ]
  },
  {
   "cell_type": "markdown",
   "metadata": {},
   "source": [
    "This gives us a clear overview of which columns have missing data and how many values are missing in each. It helps us decide which columns need to be cleaned or possibly dropped."
   ]
  },
  {
   "cell_type": "code",
   "execution_count": 13,
   "metadata": {},
   "outputs": [
    {
     "name": "stderr",
     "output_type": "stream",
     "text": [
      "C:\\Users\\Edy\\AppData\\Local\\Temp\\ipykernel_21268\\963968420.py:1: FutureWarning: A value is trying to be set on a copy of a DataFrame or Series through chained assignment using an inplace method.\n",
      "The behavior will change in pandas 3.0. This inplace method will never work because the intermediate object on which we are setting values always behaves as a copy.\n",
      "\n",
      "For example, when doing 'df[col].method(value, inplace=True)', try using 'df.method({col: value}, inplace=True)' or df[col] = df[col].method(value) instead, to perform the operation inplace on the original object.\n",
      "\n",
      "\n",
      "  data['host_identity_verified'].fillna('unknown', inplace = True)\n",
      "C:\\Users\\Edy\\AppData\\Local\\Temp\\ipykernel_21268\\963968420.py:2: FutureWarning: A value is trying to be set on a copy of a DataFrame or Series through chained assignment using an inplace method.\n",
      "The behavior will change in pandas 3.0. This inplace method will never work because the intermediate object on which we are setting values always behaves as a copy.\n",
      "\n",
      "For example, when doing 'df[col].method(value, inplace=True)', try using 'df.method({col: value}, inplace=True)' or df[col] = df[col].method(value) instead, to perform the operation inplace on the original object.\n",
      "\n",
      "\n",
      "  data['instant_bookable'].fillna('unknown', inplace = True)\n",
      "C:\\Users\\Edy\\AppData\\Local\\Temp\\ipykernel_21268\\963968420.py:3: FutureWarning: A value is trying to be set on a copy of a DataFrame or Series through chained assignment using an inplace method.\n",
      "The behavior will change in pandas 3.0. This inplace method will never work because the intermediate object on which we are setting values always behaves as a copy.\n",
      "\n",
      "For example, when doing 'df[col].method(value, inplace=True)', try using 'df.method({col: value}, inplace=True)' or df[col] = df[col].method(value) instead, to perform the operation inplace on the original object.\n",
      "\n",
      "\n",
      "  data['cancellation_policy'].fillna('unknown', inplace = True)\n"
     ]
    }
   ],
   "source": [
    "data['host_identity_verified'].fillna('unknown', inplace = True)\n",
    "data['instant_bookable'].fillna('unknown', inplace = True)\n",
    "data['cancellation_policy'].fillna('unknown', inplace = True)"
   ]
  },
  {
   "cell_type": "markdown",
   "metadata": {},
   "source": [
    "These columns are categorical. Rather than removing rows with missing values or making risky assumptions, we explicitly mark them as 'unknown'."
   ]
  },
  {
   "cell_type": "code",
   "execution_count": 14,
   "metadata": {},
   "outputs": [
    {
     "data": {
      "text/plain": [
       "neighbourhood group\n",
       "Manhattan        43792\n",
       "Brooklyn         41842\n",
       "Queens           13267\n",
       "Bronx             2712\n",
       "Staten Island      955\n",
       "brookln              1\n",
       "manhatan             1\n",
       "Name: count, dtype: int64"
      ]
     },
     "execution_count": 14,
     "metadata": {},
     "output_type": "execute_result"
    }
   ],
   "source": [
    "data['neighbourhood group'].value_counts()"
   ]
  },
  {
   "cell_type": "markdown",
   "metadata": {},
   "source": [
    "Most listings are located in Manhattan (43,792) and Brooklyn (41,842), followed by Queens, Bronx and Staten Island. However, we also notice two suspicious entries:\n",
    "- 'brookln' with 1 listing\n",
    "- 'manhatan' with 1 listing\n",
    "\n",
    "These are likely misspellings of 'Brooklyn' and 'Manhattan'.\n",
    "These typos introduce inconsistency in the data and should be corrected to ensure accurate grouping and analysis. Leaving them uncorrected would lead to misleading statistics, as the same neighborhood is treated as a different category."
   ]
  },
  {
   "cell_type": "code",
   "execution_count": 15,
   "metadata": {},
   "outputs": [
    {
     "data": {
      "text/plain": [
       "neighbourhood group\n",
       "Manhattan        43793\n",
       "Brooklyn         41843\n",
       "Queens           13267\n",
       "Bronx             2712\n",
       "Staten Island      955\n",
       "Name: count, dtype: int64"
      ]
     },
     "execution_count": 15,
     "metadata": {},
     "output_type": "execute_result"
    }
   ],
   "source": [
    "data['neighbourhood group'] = data['neighbourhood group'].replace({\n",
    "    'brookln': 'Brooklyn',\n",
    "    'manhatan' : 'Manhattan'\n",
    "})\n",
    "\n",
    "data['neighbourhood group'].value_counts()"
   ]
  },
  {
   "cell_type": "markdown",
   "metadata": {},
   "source": [
    "We use replace() to correct misspellings in the **neighbourhood group** column, changing 'brookln' to 'Brooklyn' and 'manhatan' to 'Manhattan'. Then, we use value_counts() again to verify the updated distribution."
   ]
  },
  {
   "cell_type": "code",
   "execution_count": 16,
   "metadata": {},
   "outputs": [],
   "source": [
    "mapping = data[data['neighbourhood group'].notna()].drop_duplicates(subset=['neighbourhood'])\\\n",
    "           .set_index('neighbourhood')['neighbourhood group'].to_dict()\n",
    "\n",
    "data['neighbourhood group'] = data.apply(\n",
    "    lambda row: mapping[row['neighbourhood']] if pd.isna(row['neighbourhood group']) and row['neighbourhood'] in mapping else row['neighbourhood group'],\n",
    "    axis=1\n",
    ")"
   ]
  },
  {
   "cell_type": "markdown",
   "metadata": {},
   "source": [
    "We can deduce the **neighbourhood group** based on the **neighbourhood**, if we know which group each neighbourhood belongs to. We create a mapping between **neighbourhood** and **neighbourhood group** using only the rows where **neighbourhood group** is not missing. Then, we apply this mapping to fill in the missing values in the **neighbourhood group** column."
   ]
  },
  {
   "cell_type": "code",
   "execution_count": 17,
   "metadata": {},
   "outputs": [],
   "source": [
    "data = data.dropna(subset=['neighbourhood'])"
   ]
  },
  {
   "cell_type": "markdown",
   "metadata": {},
   "source": [
    "Since **neighbourhood** is a key location-based feature, rows without this information are not useful for our analysis. Unlike missing numerical values that we might impute, missing categorical geographic data like **neighbourhood** can't be precisely determined without external sources"
   ]
  },
  {
   "cell_type": "code",
   "execution_count": 18,
   "metadata": {},
   "outputs": [],
   "source": [
    "data = data.dropna(subset=['lat','long'])"
   ]
  },
  {
   "cell_type": "markdown",
   "metadata": {},
   "source": [
    "Latitude and longitude are essential for spatial analysis, mapping, and any geolocation-based processing. Missing values in these columns cannot be accurately determined because we do not have any reliable way to identify a listing’s exact coordinates without external data."
   ]
  },
  {
   "cell_type": "code",
   "execution_count": 19,
   "metadata": {},
   "outputs": [
    {
     "name": "stderr",
     "output_type": "stream",
     "text": [
      "C:\\Users\\Edy\\AppData\\Local\\Temp\\ipykernel_21268\\1015908805.py:1: FutureWarning: A value is trying to be set on a copy of a DataFrame or Series through chained assignment using an inplace method.\n",
      "The behavior will change in pandas 3.0. This inplace method will never work because the intermediate object on which we are setting values always behaves as a copy.\n",
      "\n",
      "For example, when doing 'df[col].method(value, inplace=True)', try using 'df.method({col: value}, inplace=True)' or df[col] = df[col].method(value) instead, to perform the operation inplace on the original object.\n",
      "\n",
      "\n",
      "  data['country'].fillna('United States', inplace = True)\n",
      "C:\\Users\\Edy\\AppData\\Local\\Temp\\ipykernel_21268\\1015908805.py:2: FutureWarning: A value is trying to be set on a copy of a DataFrame or Series through chained assignment using an inplace method.\n",
      "The behavior will change in pandas 3.0. This inplace method will never work because the intermediate object on which we are setting values always behaves as a copy.\n",
      "\n",
      "For example, when doing 'df[col].method(value, inplace=True)', try using 'df.method({col: value}, inplace=True)' or df[col] = df[col].method(value) instead, to perform the operation inplace on the original object.\n",
      "\n",
      "\n",
      "  data['country code'].fillna('US', inplace = True)\n"
     ]
    }
   ],
   "source": [
    "data['country'].fillna('United States', inplace = True)\n",
    "data['country code'].fillna('US', inplace = True)"
   ]
  },
  {
   "cell_type": "markdown",
   "metadata": {},
   "source": [
    "Since our dataset contains only listings from the United States, it is safe and consistent to assume that any missing values in these columns also refer to the same country. Filling them ensures that the dataset remains complete without introducing incorrect information."
   ]
  },
  {
   "cell_type": "code",
   "execution_count": 20,
   "metadata": {},
   "outputs": [
    {
     "name": "stderr",
     "output_type": "stream",
     "text": [
      "C:\\Users\\Edy\\AppData\\Local\\Temp\\ipykernel_21268\\1295811357.py:1: FutureWarning: A value is trying to be set on a copy of a DataFrame or Series through chained assignment using an inplace method.\n",
      "The behavior will change in pandas 3.0. This inplace method will never work because the intermediate object on which we are setting values always behaves as a copy.\n",
      "\n",
      "For example, when doing 'df[col].method(value, inplace=True)', try using 'df.method({col: value}, inplace=True)' or df[col] = df[col].method(value) instead, to perform the operation inplace on the original object.\n",
      "\n",
      "\n",
      "  data['Construction year'].fillna(data['Construction year'].median(), inplace = True)\n",
      "C:\\Users\\Edy\\AppData\\Local\\Temp\\ipykernel_21268\\1295811357.py:2: FutureWarning: A value is trying to be set on a copy of a DataFrame or Series through chained assignment using an inplace method.\n",
      "The behavior will change in pandas 3.0. This inplace method will never work because the intermediate object on which we are setting values always behaves as a copy.\n",
      "\n",
      "For example, when doing 'df[col].method(value, inplace=True)', try using 'df.method({col: value}, inplace=True)' or df[col] = df[col].method(value) instead, to perform the operation inplace on the original object.\n",
      "\n",
      "\n",
      "  data['service fee'].fillna(data['service fee'].median(), inplace = True)\n",
      "C:\\Users\\Edy\\AppData\\Local\\Temp\\ipykernel_21268\\1295811357.py:3: FutureWarning: A value is trying to be set on a copy of a DataFrame or Series through chained assignment using an inplace method.\n",
      "The behavior will change in pandas 3.0. This inplace method will never work because the intermediate object on which we are setting values always behaves as a copy.\n",
      "\n",
      "For example, when doing 'df[col].method(value, inplace=True)', try using 'df.method({col: value}, inplace=True)' or df[col] = df[col].method(value) instead, to perform the operation inplace on the original object.\n",
      "\n",
      "\n",
      "  data['price'].fillna(data['price'].median(), inplace = True)\n"
     ]
    }
   ],
   "source": [
    "data['Construction year'].fillna(data['Construction year'].median(), inplace = True)\n",
    "data['service fee'].fillna(data['service fee'].median(), inplace = True)\n",
    "data['price'].fillna(data['price'].median(), inplace = True)"
   ]
  },
  {
   "cell_type": "markdown",
   "metadata": {},
   "source": [
    "These columns are numerical and contain missing values that need to be handled for analysis. We choose the median instead of the mean because it is more robust to outliers. In real-world datasets, columns like price or service fee often contain extreme values (very high or very low), which can distort the mean. The median provides a more stable and representative central value. This ensures that the imputed data does not artificially inflate or deflate the overall distribution and keeps the dataset consistent for further analysis."
   ]
  },
  {
   "cell_type": "code",
   "execution_count": 21,
   "metadata": {},
   "outputs": [
    {
     "data": {
      "text/plain": [
       "id                                    0\n",
       "host id                               0\n",
       "host_identity_verified                0\n",
       "neighbourhood group                   0\n",
       "neighbourhood                         0\n",
       "lat                                   0\n",
       "long                                  0\n",
       "country                               0\n",
       "country code                          0\n",
       "instant_bookable                      0\n",
       "cancellation_policy                   0\n",
       "room type                             0\n",
       "Construction year                     0\n",
       "price                                 0\n",
       "service fee                           0\n",
       "minimum nights                      408\n",
       "number of reviews                   183\n",
       "last review                       15892\n",
       "reviews per month                 15878\n",
       "review rate number                  326\n",
       "calculated host listings count      319\n",
       "availability 365                    447\n",
       "dtype: int64"
      ]
     },
     "execution_count": 21,
     "metadata": {},
     "output_type": "execute_result"
    }
   ],
   "source": [
    "data.isnull().sum()"
   ]
  },
  {
   "cell_type": "code",
   "execution_count": 22,
   "metadata": {},
   "outputs": [
    {
     "data": {
      "text/plain": [
       "count    102167.000000\n",
       "mean          8.133996\n",
       "std          30.552134\n",
       "min       -1223.000000\n",
       "25%           2.000000\n",
       "50%           3.000000\n",
       "75%           5.000000\n",
       "max        5645.000000\n",
       "Name: minimum nights, dtype: float64"
      ]
     },
     "execution_count": 22,
     "metadata": {},
     "output_type": "execute_result"
    }
   ],
   "source": [
    "data['minimum nights'].describe()"
   ]
  },
  {
   "cell_type": "markdown",
   "metadata": {},
   "source": [
    "The column contains extreme and invalid values. The minimum is -1223, which is not logically possible, as a listing cannot require a negative number of nights. The maximum is 5645, which is also unusually high and likely an error or outlier. These invalid and unrealistic values should be removed to improve the reliability of the dataset."
   ]
  },
  {
   "cell_type": "code",
   "execution_count": 23,
   "metadata": {},
   "outputs": [
    {
     "name": "stderr",
     "output_type": "stream",
     "text": [
      "C:\\Users\\Edy\\AppData\\Local\\Temp\\ipykernel_21268\\1050406190.py:2: FutureWarning: A value is trying to be set on a copy of a DataFrame or Series through chained assignment using an inplace method.\n",
      "The behavior will change in pandas 3.0. This inplace method will never work because the intermediate object on which we are setting values always behaves as a copy.\n",
      "\n",
      "For example, when doing 'df[col].method(value, inplace=True)', try using 'df.method({col: value}, inplace=True)' or df[col] = df[col].method(value) instead, to perform the operation inplace on the original object.\n",
      "\n",
      "\n",
      "  data['minimum nights'].fillna(data['minimum nights'].median(), inplace= True)\n"
     ]
    }
   ],
   "source": [
    "data = data[(data['minimum nights'] >=1) & (data['minimum nights'] <=60)]\n",
    "data['minimum nights'].fillna(data['minimum nights'].median(), inplace= True)"
   ]
  },
  {
   "cell_type": "markdown",
   "metadata": {},
   "source": [
    "Negative values and excessively high values like 5645 are unrealistic and can distort our analysis. By keeping values between 1 and 60, we retain the vast majority of realistic entries while removing clear errors and outliers. Using the median to fill any remaining missing values ensures that the imputed values are consistent with the typical behavior in the dataset and are not influenced by remaining outliers."
   ]
  },
  {
   "cell_type": "code",
   "execution_count": 24,
   "metadata": {},
   "outputs": [
    {
     "data": {
      "text/html": [
       "<div>\n",
       "<style scoped>\n",
       "    .dataframe tbody tr th:only-of-type {\n",
       "        vertical-align: middle;\n",
       "    }\n",
       "\n",
       "    .dataframe tbody tr th {\n",
       "        vertical-align: top;\n",
       "    }\n",
       "\n",
       "    .dataframe thead th {\n",
       "        text-align: right;\n",
       "    }\n",
       "</style>\n",
       "<table border=\"1\" class=\"dataframe\">\n",
       "  <thead>\n",
       "    <tr style=\"text-align: right;\">\n",
       "      <th></th>\n",
       "      <th>reviews per month</th>\n",
       "      <th>last review</th>\n",
       "    </tr>\n",
       "  </thead>\n",
       "  <tbody>\n",
       "    <tr>\n",
       "      <th>566</th>\n",
       "      <td>0.65</td>\n",
       "      <td>2019-07-01</td>\n",
       "    </tr>\n",
       "    <tr>\n",
       "      <th>1066</th>\n",
       "      <td>0.64</td>\n",
       "      <td>2018-09-30</td>\n",
       "    </tr>\n",
       "    <tr>\n",
       "      <th>1591</th>\n",
       "      <td>0.43</td>\n",
       "      <td>2018-09-18</td>\n",
       "    </tr>\n",
       "    <tr>\n",
       "      <th>2141</th>\n",
       "      <td>3.68</td>\n",
       "      <td>2019-06-21</td>\n",
       "    </tr>\n",
       "    <tr>\n",
       "      <th>3149</th>\n",
       "      <td>3.49</td>\n",
       "      <td>2019-07-02</td>\n",
       "    </tr>\n",
       "    <tr>\n",
       "      <th>...</th>\n",
       "      <td>...</td>\n",
       "      <td>...</td>\n",
       "    </tr>\n",
       "    <tr>\n",
       "      <th>91027</th>\n",
       "      <td>0.13</td>\n",
       "      <td>2019-01-01</td>\n",
       "    </tr>\n",
       "    <tr>\n",
       "      <th>91831</th>\n",
       "      <td>1.33</td>\n",
       "      <td>2019-06-25</td>\n",
       "    </tr>\n",
       "    <tr>\n",
       "      <th>99736</th>\n",
       "      <td>0.38</td>\n",
       "      <td>2018-10-10</td>\n",
       "    </tr>\n",
       "    <tr>\n",
       "      <th>100590</th>\n",
       "      <td>0.63</td>\n",
       "      <td>2019-06-25</td>\n",
       "    </tr>\n",
       "    <tr>\n",
       "      <th>101292</th>\n",
       "      <td>0.13</td>\n",
       "      <td>2019-01-01</td>\n",
       "    </tr>\n",
       "  </tbody>\n",
       "</table>\n",
       "<p>181 rows × 2 columns</p>\n",
       "</div>"
      ],
      "text/plain": [
       "        reviews per month last review\n",
       "566                  0.65  2019-07-01\n",
       "1066                 0.64  2018-09-30\n",
       "1591                 0.43  2018-09-18\n",
       "2141                 3.68  2019-06-21\n",
       "3149                 3.49  2019-07-02\n",
       "...                   ...         ...\n",
       "91027                0.13  2019-01-01\n",
       "91831                1.33  2019-06-25\n",
       "99736                0.38  2018-10-10\n",
       "100590               0.63  2019-06-25\n",
       "101292               0.13  2019-01-01\n",
       "\n",
       "[181 rows x 2 columns]"
      ]
     },
     "execution_count": 24,
     "metadata": {},
     "output_type": "execute_result"
    }
   ],
   "source": [
    "data[data['number of reviews'].isna()][['reviews per month', 'last review']]"
   ]
  },
  {
   "cell_type": "markdown",
   "metadata": {},
   "source": [
    "We initially assumed that if **number of reviews** is missing (NaN), it might mean the listing has zero reviews. To verify this, we looked at two related columns: **reviews per month** and **last review**. However, the result shows that many of these rows actually have non-zero values in reviews per month and valid dates in last review, which proves that they did receive reviews."
   ]
  },
  {
   "cell_type": "code",
   "execution_count": 25,
   "metadata": {},
   "outputs": [
    {
     "data": {
      "text/plain": [
       "0"
      ]
     },
     "execution_count": 25,
     "metadata": {},
     "output_type": "execute_result"
    }
   ],
   "source": [
    "test = data[(data['reviews per month'] == 0) & (data['number of reviews'].isna())].shape[0]\n",
    "test"
   ]
  },
  {
   "cell_type": "markdown",
   "metadata": {},
   "source": [
    "The idea was: if **reviews per month** is 0, it might mean the listing has no reviews at all - so we could consider setting **number of reviews** to 0 in those cases. However, the result showed that no listings have **reviews per month == 0**, which means every row has some level of review activity. This confirms that missing values in **number of reviews** should not be assumed to be 0"
   ]
  },
  {
   "cell_type": "code",
   "execution_count": 26,
   "metadata": {},
   "outputs": [
    {
     "name": "stderr",
     "output_type": "stream",
     "text": [
      "C:\\Users\\Edy\\AppData\\Local\\Temp\\ipykernel_21268\\2569046593.py:1: FutureWarning: A value is trying to be set on a copy of a DataFrame or Series through chained assignment using an inplace method.\n",
      "The behavior will change in pandas 3.0. This inplace method will never work because the intermediate object on which we are setting values always behaves as a copy.\n",
      "\n",
      "For example, when doing 'df[col].method(value, inplace=True)', try using 'df.method({col: value}, inplace=True)' or df[col] = df[col].method(value) instead, to perform the operation inplace on the original object.\n",
      "\n",
      "\n",
      "  data['number of reviews'].fillna(data['number of reviews'].median(), inplace = True)\n"
     ]
    }
   ],
   "source": [
    "data['number of reviews'].fillna(data['number of reviews'].median(), inplace = True)"
   ]
  },
  {
   "cell_type": "markdown",
   "metadata": {},
   "source": [
    "This step ensures that there are no missing values left in **number of reviews**. The median is chosen because the distribution of review counts is likely skewed, with many listings having few reviews and a few having very high numbers. Using the median avoids the influence of those extreme values and provides a stable, central value that better represents a typical listing"
   ]
  },
  {
   "cell_type": "code",
   "execution_count": 27,
   "metadata": {},
   "outputs": [
    {
     "data": {
      "text/plain": [
       "150"
      ]
     },
     "execution_count": 27,
     "metadata": {},
     "output_type": "execute_result"
    }
   ],
   "source": [
    "test1 = data[(data['number of reviews'] >= 1) & (data['last review'].isna())].shape[0]\n",
    "test1"
   ]
  },
  {
   "cell_type": "markdown",
   "metadata": {},
   "source": [
    "We did this to identify listings that are inconsistent — they claim to have one or more reviews, but the date of the **last review** is missing. In this case, the result shows that only 150 listings meet this condition. Since the number is small and there is no reliable way to determine the missing **last review** dates, the best solution is to remove these rows."
   ]
  },
  {
   "cell_type": "code",
   "execution_count": 28,
   "metadata": {},
   "outputs": [],
   "source": [
    "data = data[~((data['number of reviews'] > 0) & (data['last review'].isna()))]"
   ]
  },
  {
   "cell_type": "markdown",
   "metadata": {},
   "source": [
    "This line removes the 150 inconsistent rows where a listing has at least one review but no recorded last review date."
   ]
  },
  {
   "cell_type": "code",
   "execution_count": 29,
   "metadata": {},
   "outputs": [
    {
     "data": {
      "text/plain": [
       "np.int64(15404)"
      ]
     },
     "execution_count": 29,
     "metadata": {},
     "output_type": "execute_result"
    }
   ],
   "source": [
    "test2 = (data['number of reviews'] == 0) & (data['reviews per month'].isna())\n",
    "test2.sum()"
   ]
  },
  {
   "cell_type": "markdown",
   "metadata": {},
   "source": [
    "We count how many listings have no reviews at all and also have no value in **reviews per month**. This is logically consistent: if a listing has no reviews, it's expected to have 0 reviews per month."
   ]
  },
  {
   "cell_type": "code",
   "execution_count": 30,
   "metadata": {},
   "outputs": [],
   "source": [
    "data.loc[(data['number of reviews'] == 0 ) & (data['reviews per month'].isna()), 'reviews per month'] = 0"
   ]
  },
  {
   "cell_type": "markdown",
   "metadata": {},
   "source": [
    "We explicitly set **reviews per month** to 0 for those listings, filling in the missing values with a value that makes sense."
   ]
  },
  {
   "cell_type": "code",
   "execution_count": 31,
   "metadata": {},
   "outputs": [
    {
     "data": {
      "text/plain": [
       "np.int64(7)"
      ]
     },
     "execution_count": 31,
     "metadata": {},
     "output_type": "execute_result"
    }
   ],
   "source": [
    "data['reviews per month'].isnull().sum()"
   ]
  },
  {
   "cell_type": "markdown",
   "metadata": {},
   "source": [
    "We check how many missing values remain in the **reviews per month** column after the fill. This helps us confirm the previous step worked.\n",
    "\n"
   ]
  },
  {
   "cell_type": "code",
   "execution_count": 32,
   "metadata": {},
   "outputs": [],
   "source": [
    "data = data[~((data['number of reviews'] > 0) & (data['reviews per month'].isna()))]"
   ]
  },
  {
   "cell_type": "markdown",
   "metadata": {},
   "source": [
    "The 7 remaining rows have missing **reviews per month** values, even though they have a **number of reviews** greater than 0. This is a logical inconsistency, because if a listing has received reviews, it should also have an average monthly review rate. Since there are only a small number of inconsistent rows, we choose to remove them rather than attempt to impute a value that we cannot accurately determine."
   ]
  },
  {
   "cell_type": "code",
   "execution_count": 33,
   "metadata": {},
   "outputs": [
    {
     "data": {
      "text/plain": [
       "np.int64(33)"
      ]
     },
     "execution_count": 33,
     "metadata": {},
     "output_type": "execute_result"
    }
   ],
   "source": [
    "test3 = (data['number of reviews'] == 0) & (data['review rate number'].isna())\n",
    "test3.sum()"
   ]
  },
  {
   "cell_type": "markdown",
   "metadata": {},
   "source": [
    "We check how many listings have no reviews and are also missing a **review rate number**. This field can be zero."
   ]
  },
  {
   "cell_type": "code",
   "execution_count": 34,
   "metadata": {},
   "outputs": [],
   "source": [
    "data.loc[data['number of reviews'] == 0, 'review rate number'] = 0"
   ]
  },
  {
   "cell_type": "markdown",
   "metadata": {},
   "source": [
    "To fix the missing cases, we set **review rate number** to 0 for all listings that have 0 reviews. This keeps the data logically consistent."
   ]
  },
  {
   "cell_type": "code",
   "execution_count": 35,
   "metadata": {},
   "outputs": [
    {
     "data": {
      "text/plain": [
       "np.int64(0)"
      ]
     },
     "execution_count": 35,
     "metadata": {},
     "output_type": "execute_result"
    }
   ],
   "source": [
    "test4 = (data['number of reviews'] == 0) & (data['review rate number'] > 0)\n",
    "test4.sum()"
   ]
  },
  {
   "cell_type": "markdown",
   "metadata": {},
   "source": [
    "We find 15,371 listings that have no reviews but a non-zero review rating, which is a contradiction. A review score should come from actual reviews."
   ]
  },
  {
   "cell_type": "code",
   "execution_count": 36,
   "metadata": {},
   "outputs": [],
   "source": [
    "data['review rate number'].isnull().sum()\n",
    "data = data[~((data['number of reviews'] > 0) & (data['review rate number'].isna()))]"
   ]
  },
  {
   "cell_type": "markdown",
   "metadata": {},
   "source": [
    "Now there are only 267 missing values left in the column. Because these inconsistencies only appear in a small number of rows, we choose to remove them instead of trying to estimate the missing values. This decision has minimal impact on the dataset size."
   ]
  },
  {
   "cell_type": "code",
   "execution_count": 37,
   "metadata": {},
   "outputs": [
    {
     "data": {
      "text/html": [
       "<div>\n",
       "<style scoped>\n",
       "    .dataframe tbody tr th:only-of-type {\n",
       "        vertical-align: middle;\n",
       "    }\n",
       "\n",
       "    .dataframe tbody tr th {\n",
       "        vertical-align: top;\n",
       "    }\n",
       "\n",
       "    .dataframe thead th {\n",
       "        text-align: right;\n",
       "    }\n",
       "</style>\n",
       "<table border=\"1\" class=\"dataframe\">\n",
       "  <thead>\n",
       "    <tr style=\"text-align: right;\">\n",
       "      <th></th>\n",
       "      <th>calculated host listings count</th>\n",
       "      <th>availability 365</th>\n",
       "    </tr>\n",
       "  </thead>\n",
       "  <tbody>\n",
       "    <tr>\n",
       "      <th>count</th>\n",
       "      <td>100721.000000</td>\n",
       "      <td>100627.000000</td>\n",
       "    </tr>\n",
       "    <tr>\n",
       "      <th>mean</th>\n",
       "      <td>7.898939</td>\n",
       "      <td>140.551115</td>\n",
       "    </tr>\n",
       "    <tr>\n",
       "      <th>std</th>\n",
       "      <td>32.106886</td>\n",
       "      <td>135.394678</td>\n",
       "    </tr>\n",
       "    <tr>\n",
       "      <th>min</th>\n",
       "      <td>1.000000</td>\n",
       "      <td>-10.000000</td>\n",
       "    </tr>\n",
       "    <tr>\n",
       "      <th>25%</th>\n",
       "      <td>1.000000</td>\n",
       "      <td>3.000000</td>\n",
       "    </tr>\n",
       "    <tr>\n",
       "      <th>50%</th>\n",
       "      <td>1.000000</td>\n",
       "      <td>95.000000</td>\n",
       "    </tr>\n",
       "    <tr>\n",
       "      <th>75%</th>\n",
       "      <td>2.000000</td>\n",
       "      <td>268.000000</td>\n",
       "    </tr>\n",
       "    <tr>\n",
       "      <th>max</th>\n",
       "      <td>332.000000</td>\n",
       "      <td>3677.000000</td>\n",
       "    </tr>\n",
       "  </tbody>\n",
       "</table>\n",
       "</div>"
      ],
      "text/plain": [
       "       calculated host listings count  availability 365\n",
       "count                   100721.000000     100627.000000\n",
       "mean                         7.898939        140.551115\n",
       "std                         32.106886        135.394678\n",
       "min                          1.000000        -10.000000\n",
       "25%                          1.000000          3.000000\n",
       "50%                          1.000000         95.000000\n",
       "75%                          2.000000        268.000000\n",
       "max                        332.000000       3677.000000"
      ]
     },
     "execution_count": 37,
     "metadata": {},
     "output_type": "execute_result"
    }
   ],
   "source": [
    "data[['calculated host listings count','availability 365']].describe()"
   ]
  },
  {
   "cell_type": "markdown",
   "metadata": {},
   "source": [
    "We used describe() to examine the distribution of values in the **calculated host listings count** and **availability 365** columns. For **availability 365**, we notice a minimum value of -10, which is invalid, and a maximum value of 3677, which is far beyond the possible number of days in a year. These extreme values suggest data entry errors that need to be cleaned in the next step"
   ]
  },
  {
   "cell_type": "code",
   "execution_count": 38,
   "metadata": {},
   "outputs": [
    {
     "name": "stderr",
     "output_type": "stream",
     "text": [
      "C:\\Users\\Edy\\AppData\\Local\\Temp\\ipykernel_21268\\1547041025.py:1: FutureWarning: A value is trying to be set on a copy of a DataFrame or Series through chained assignment using an inplace method.\n",
      "The behavior will change in pandas 3.0. This inplace method will never work because the intermediate object on which we are setting values always behaves as a copy.\n",
      "\n",
      "For example, when doing 'df[col].method(value, inplace=True)', try using 'df.method({col: value}, inplace=True)' or df[col] = df[col].method(value) instead, to perform the operation inplace on the original object.\n",
      "\n",
      "\n",
      "  data['calculated host listings count'].fillna(1, inplace = True)\n"
     ]
    }
   ],
   "source": [
    "data['calculated host listings count'].fillna(1, inplace = True)"
   ]
  },
  {
   "cell_type": "markdown",
   "metadata": {},
   "source": [
    "We fill missing values in **calculated host listings count** with 1, assuming that a host with no recorded data most likely has a single listing. "
   ]
  },
  {
   "cell_type": "code",
   "execution_count": 39,
   "metadata": {},
   "outputs": [],
   "source": [
    "data = data[(data['availability 365'] >= 0) & (data['availability 365'] <= 365)]"
   ]
  },
  {
   "cell_type": "markdown",
   "metadata": {},
   "source": [
    "Next, we filter the dataset to keep only the rows where **availability 365** is between 0 and 365, removing any invalid values like -10 or 3677, which are outside the logical range for days in a year."
   ]
  },
  {
   "cell_type": "code",
   "execution_count": 40,
   "metadata": {},
   "outputs": [
    {
     "name": "stderr",
     "output_type": "stream",
     "text": [
      "C:\\Users\\Edy\\AppData\\Local\\Temp\\ipykernel_21268\\2381292668.py:1: FutureWarning: A value is trying to be set on a copy of a DataFrame or Series through chained assignment using an inplace method.\n",
      "The behavior will change in pandas 3.0. This inplace method will never work because the intermediate object on which we are setting values always behaves as a copy.\n",
      "\n",
      "For example, when doing 'df[col].method(value, inplace=True)', try using 'df.method({col: value}, inplace=True)' or df[col] = df[col].method(value) instead, to perform the operation inplace on the original object.\n",
      "\n",
      "\n",
      "  data['availability 365'].fillna(0, inplace=True)\n"
     ]
    }
   ],
   "source": [
    "data['availability 365'].fillna(0, inplace=True)"
   ]
  },
  {
   "cell_type": "markdown",
   "metadata": {},
   "source": [
    "Finally, we fill any remaining missing values in **availability 365** with 0, meaning the listing is not available at all during the year."
   ]
  },
  {
   "cell_type": "code",
   "execution_count": 41,
   "metadata": {},
   "outputs": [
    {
     "data": {
      "text/plain": [
       "id                                    0\n",
       "host id                               0\n",
       "host_identity_verified                0\n",
       "neighbourhood group                   0\n",
       "neighbourhood                         0\n",
       "lat                                   0\n",
       "long                                  0\n",
       "country                               0\n",
       "country code                          0\n",
       "instant_bookable                      0\n",
       "cancellation_policy                   0\n",
       "room type                             0\n",
       "Construction year                     0\n",
       "price                                 0\n",
       "service fee                           0\n",
       "minimum nights                        0\n",
       "number of reviews                     0\n",
       "last review                       14620\n",
       "reviews per month                     0\n",
       "review rate number                    0\n",
       "calculated host listings count        0\n",
       "availability 365                      0\n",
       "dtype: int64"
      ]
     },
     "execution_count": 41,
     "metadata": {},
     "output_type": "execute_result"
    }
   ],
   "source": [
    "data.isnull().sum()"
   ]
  },
  {
   "cell_type": "markdown",
   "metadata": {},
   "source": [
    "The output shows that every column has zero missing values, except for last review, which still has 14,620 missing entries. This is expected and acceptable because these rows correspond to listings with zero reviews. All other columns are now fully clean and consistent, meaning the dataset is ready for further analysis without risk of errors due to missing data."
   ]
  },
  {
   "cell_type": "code",
   "execution_count": 42,
   "metadata": {},
   "outputs": [
    {
     "data": {
      "text/plain": [
       "{'1': 0, '2': 0, '3': 0, '4': 0, '5': 0, '6': 0, '7': 24820}"
      ]
     },
     "execution_count": 42,
     "metadata": {},
     "output_type": "execute_result"
    }
   ],
   "source": [
    "anomalies = {}\n",
    "\n",
    "anomalies['1'] = data[(data['reviews per month'] > 0) & (data['number of reviews'] == 0)]\n",
    "anomalies['2'] = data[(data['review rate number'] > 0) & (data['number of reviews'] == 0)]\n",
    "anomalies['3'] = data[(data['number of reviews'] > 0) & (data['review rate number'].isna())]\n",
    "anomalies['4'] = data[(data['number of reviews'] > 0) & (data['reviews per month'] == 0)]\n",
    "anomalies['5'] = data[(data['number of reviews'] > 0) & (data['last review'].isna())]\n",
    "anomalies['6'] = data[(data['availability 365'] < 0) | (data['availability 365'] > 365)]\n",
    "anomalies['7'] = data[data['minimum nights'] > data['availability 365']]\n",
    "\n",
    "\n",
    "anomaly_summary = {k: v.shape[0] for k, v in anomalies.items()}\n",
    "anomaly_summary"
   ]
  },
  {
   "cell_type": "markdown",
   "metadata": {},
   "source": [
    "We found 24,820 listings where the **minimum nights** required is greater than the **availability 365**, meaning the listing is available for fewer days per year than the minimum booking requirement. However, we cannot conclude this is a true error. These listings might be deliberately blocked or inactive for most of the year by the host, or used privately. The host may set a high minimum stay while keeping the availability limited, possibly to prevent bookings while keeping the listing active."
   ]
  },
  {
   "cell_type": "markdown",
   "metadata": {},
   "source": [
    "# Exploratory Data Analysis"
   ]
  },
  {
   "cell_type": "markdown",
   "metadata": {},
   "source": [
    "In this section, we will perform a univariate analysis of the **price** variable. The goal is to understand the distribution, central tendency, and potential outliers of the prices listed on Airbnb. "
   ]
  },
  {
   "cell_type": "code",
   "execution_count": 43,
   "metadata": {},
   "outputs": [
    {
     "data": {
      "text/plain": [
       "count    97481.000000\n",
       "mean       626.079246\n",
       "std        331.306704\n",
       "min         50.000000\n",
       "25%        341.000000\n",
       "50%        625.000000\n",
       "75%        913.000000\n",
       "max       1200.000000\n",
       "Name: price, dtype: float64"
      ]
     },
     "execution_count": 43,
     "metadata": {},
     "output_type": "execute_result"
    }
   ],
   "source": [
    "data['price'].describe()"
   ]
  },
  {
   "cell_type": "markdown",
   "metadata": {},
   "source": [
    "- Count: There are 97,481 listings with a valid price value.\n",
    "- Mean: The average price is $626.08.\n",
    "- Standard Deviation (std): The standard deviation is $331.31, indicating a wide spread of prices around the mean.\n",
    "- Min: The lowest price in the dataset is $50.\n",
    "- 25th Percentile: 25% of listings have a price below $341.\n",
    "- Median (50%): The median price is $625, meaning half of the listings are below this value and half above.\n",
    "- 75th Percentile: 75% of listings have a price below $913.\n",
    "- Max: The highest price is $1200.\n",
    "\n",
    "These values suggest that most listings are priced between $341 and $913. The mean and median are very close, indicating the distribution is relatively symmetrical, but we will confirm that by visualizing the data.\n"
   ]
  },
  {
   "cell_type": "code",
   "execution_count": 44,
   "metadata": {},
   "outputs": [
    {
     "data": {
      "image/png": "[encoded data removed]",
      "text/plain": [
       "<Figure size 640x480 with 1 Axes>"
      ]
     },
     "metadata": {},
     "output_type": "display_data"
    }
   ],
   "source": [
    "sns.histplot(data['price'], bins=100, kde=True)\n",
    "plt.title('Distributia preturilor')\n",
    "plt.xlabel('Pret ($)')\n",
    "plt.ylabel('Numar de listari')\n",
    "plt.show()"
   ]
  },
  {
   "cell_type": "code",
   "execution_count": 45,
   "metadata": {},
   "outputs": [
    {
     "data": {
      "image/png": "[encoded data removed]",
      "text/plain": [
       "<Figure size 640x480 with 1 Axes>"
      ]
     },
     "metadata": {},
     "output_type": "display_data"
    }
   ],
   "source": [
    "sns.boxplot(x=data['price'])\n",
    "plt.title('Boxplot pentru preturi')\n",
    "plt.xlabel('Pret ($)')\n",
    "plt.show()"
   ]
  },
  {
   "cell_type": "markdown",
   "metadata": {},
   "source": [
    "Based on the descriptive statistics, the **price** variable has a mean of approximately $626 and a median of $625, which indicates that the distribution is fairly symmetric. The standard deviation is around $331, showing that prices vary quite a bit around the mean.\n",
    "\n",
    "The histogram with KDE further supports these observations. The distribution appears to be relatively flat, with a slight concentration of listings around the $600–$700 range. There is no clear peak in the distribution, and it does not show strong skewness. The KDE curve is smooth and centered, confirming the near-symmetry observed in the summary statistics.\n",
    "\n",
    "The boxplot also aligns with the previous findings. The median is visibly centered in the box, and the whiskers extend from the minimum to the maximum values without showing any individual outliers. This suggests that the price values are well distributed and do not contain extreme values that could distort the analysis."
   ]
  },
  {
   "cell_type": "markdown",
   "metadata": {},
   "source": [
    "________________________________________________________________________________________________________"
   ]
  },
  {
   "cell_type": "code",
   "execution_count": 46,
   "metadata": {},
   "outputs": [
    {
     "name": "stdout",
     "output_type": "stream",
     "text": [
      "neighbourhood\n",
      "New Dorp                  1045.000000\n",
      "Chelsea, Staten Island    1042.000000\n",
      "Fort Wadsworth            1024.000000\n",
      "Little Neck                817.750000\n",
      "Jamaica Hills              812.904762\n",
      "Arden Heights              804.888889\n",
      "Midland Beach              796.176471\n",
      "Shore Acres                786.772727\n",
      "East Morrisania            778.947368\n",
      "Mill Basin                 775.142857\n",
      "Name: price, dtype: float64\n",
      "neighbourhood\n",
      "Randall Manor                 465.954545\n",
      "West Farms                    463.166667\n",
      "Emerson Hill                  443.800000\n",
      "Castleton Corners             437.750000\n",
      "Bay Terrace, Staten Island    429.500000\n",
      "Richmondtown                  373.400000\n",
      "Spuyten Duyvil                347.166667\n",
      "Breezy Point                  309.888889\n",
      "Rossville                     247.000000\n",
      "Lighthouse Hill               107.666667\n",
      "Name: price, dtype: float64\n"
     ]
    }
   ],
   "source": [
    "avg_price_by_neighbourhood = data.groupby('neighbourhood')['price'].mean().sort_values(ascending=False)\n",
    "top_10 = avg_price_by_neighbourhood.head(10)\n",
    "last_10 = avg_price_by_neighbourhood.tail(10)\n",
    "\n",
    "print(top_10)\n",
    "print(last_10)"
   ]
  },
  {
   "cell_type": "markdown",
   "metadata": {},
   "source": [
    "The analysis shows the **neighborhoods** with the highest and lowest average Airbnb prices. For example, New Dorp, Chelsea (Staten Island) and Fort Wadsworth have average nightly prices exceeding $1,000, while **neighborhoods** like Rossville and Lighthouse Hill are below $300. However, before drawing conclusions, it's important to verify the number of listings in each of these **neighborhoods**. Many of the areas appearing at the top or bottom of the list may have very few active listings, which can lead to unreliable average prices."
   ]
  },
  {
   "cell_type": "code",
   "execution_count": 47,
   "metadata": {},
   "outputs": [
    {
     "data": {
      "text/plain": [
       "neighbourhood\n",
       "Bedford-Stuyvesant        7599\n",
       "Williamsburg              7385\n",
       "Harlem                    5129\n",
       "Bushwick                  4752\n",
       "Hell's Kitchen            3796\n",
       "                          ... \n",
       "Willowbrook                  3\n",
       "Fort Wadsworth               2\n",
       "Rossville                    2\n",
       "Glen Oaks                    2\n",
       "Chelsea, Staten Island       1\n",
       "Name: count, Length: 224, dtype: int64"
      ]
     },
     "execution_count": 47,
     "metadata": {},
     "output_type": "execute_result"
    }
   ],
   "source": [
    "data['neighbourhood'].value_counts()"
   ]
  },
  {
   "cell_type": "markdown",
   "metadata": {},
   "source": [
    "To ensure a more accurate and reliable analysis, we want to excluded **neighborhoods** with fewer than 100 listings. Neighborhoods with a very small number of listings may produce misleading average prices due to outliers or limited data. A single luxury or underpriced listing can heavily skew the average in these cases. By filtering out low-sample **neighborhoods**, we focus the analysis on areas with enough market activity to reflect realistic Airbnb pricing trends and better support investment decisions."
   ]
  },
  {
   "cell_type": "code",
   "execution_count": 48,
   "metadata": {},
   "outputs": [],
   "source": [
    "filtered_data = data[\n",
    "    (data['availability 365'] > 0) &\n",
    "    (data['reviews per month'] > 0) &\n",
    "    (data['neighbourhood'].isin(data['neighbourhood'].value_counts()[lambda x: x >=100].index))\n",
    "]"
   ]
  },
  {
   "cell_type": "markdown",
   "metadata": {},
   "source": [
    "To accurately identify the best neighborhoods for investing in an Airbnb property, we applied three key filters to ensure data quality and market relevance"
   ]
  },
  {
   "cell_type": "code",
   "execution_count": 49,
   "metadata": {},
   "outputs": [],
   "source": [
    "median_price_by_neighbourhood = filtered_data.groupby('neighbourhood')['price'].median().sort_values(ascending=False)\n",
    "top_10_median = median_price_by_neighbourhood.head(10)\n",
    "last_10_median = median_price_by_neighbourhood.tail(10)"
   ]
  },
  {
   "cell_type": "markdown",
   "metadata": {},
   "source": [
    "In this step, we calculate the median price for each **neighborhood**, based on filtered Airbnb listings that are active, have real reviews, and come from areas with at least 100 listings. We use the median instead of the mean because it gives a more reliable representation of the typical price in each **neighborhood**. Airbnb prices often include extreme outliers (ex: luxury penthouses or very low-budget listings), which can distort the average. The median is more robust to such outliers and better reflects the actual market conditions. This is especially important for new Airbnb property owners, who are likely to price their listings closer to the market median rather than competing with a small number of exceptional cases. We extract the top 10 most expensive neighborhoods and the bottom 10 least expensive ones to better understand where high or low nightly prices are concentrated.\n"
   ]
  },
  {
   "cell_type": "code",
   "execution_count": 50,
   "metadata": {},
   "outputs": [
    {
     "data": {
      "image/png": "[encoded data removed]",
      "text/plain": [
       "<Figure size 1000x600 with 1 Axes>"
      ]
     },
     "metadata": {},
     "output_type": "display_data"
    }
   ],
   "source": [
    "plt.figure(figsize=(10, 6))\n",
    "sns.barplot(x=top_10_median.index, y=top_10_median.values)\n",
    "plt.title('Top 10 Most Expensive Neighborhoods by Median Price')\n",
    "plt.ylabel('Median Price ($)')\n",
    "plt.xlabel('Neighborhood')\n",
    "plt.xticks(rotation=45, ha='right')\n",
    "plt.tight_layout()\n",
    "plt.show()\n"
   ]
  },
  {
   "cell_type": "markdown",
   "metadata": {},
   "source": [
    "The bar chart shows the top 10 most expensive **neighborhoods** on Airbnb based on the median nightly price of listings that are active and receive real guest reviews. Battery Park City ranks highest, followed closely by NoHo, Gravesend, and Briarwood. All **neighborhoods** in this chart have median prices exceeding $700 per night, highlighting areas with strong potential for high nightly revenue. This information is valuable for new Airbnb property owners who want to understand where premium markets are located. Choosing areas with higher median prices can lead to higher returns per booking, although it often comes with higher property prices and guest expectations. "
   ]
  },
  {
   "cell_type": "code",
   "execution_count": 51,
   "metadata": {},
   "outputs": [
    {
     "data": {
      "image/png": "[encoded data removed]",
      "text/plain": [
       "<Figure size 1000x600 with 1 Axes>"
      ]
     },
     "metadata": {},
     "output_type": "display_data"
    }
   ],
   "source": [
    "plt.figure(figsize=(10, 6))\n",
    "sns.barplot(x=last_10_median.index, y=last_10_median.values)\n",
    "plt.title('Top 10 Least Expensive Neighborhoods by Median Price')\n",
    "plt.ylabel('Median Price ($)')\n",
    "plt.xlabel('Neighborhood')\n",
    "plt.xticks(rotation=45, ha='right')\n",
    "plt.tight_layout()\n",
    "plt.show()\n"
   ]
  },
  {
   "cell_type": "markdown",
   "metadata": {},
   "source": [
    "This bar chart displays the 10 **neighborhoods** with the lowest median nightly prices on Airbnb, based on filtered and reliable listings. **Neighborhoods** such as Bay Ridge, Bayside, and Kensington offer median nightly prices between $450–$560, making them significantly more affordable compared to premium areas. While these areas might not generate the highest price per night, they could perform well if demand (occupancy) is strong."
   ]
  },
  {
   "cell_type": "code",
   "execution_count": 59,
   "metadata": {},
   "outputs": [
    {
     "name": "stdout",
     "output_type": "stream",
     "text": [
      "neighbourhood\n",
      "East Elmhurst          99.845209\n",
      "Springfield Gardens    74.812785\n",
      "Jamaica                60.108216\n",
      "St. George             55.553191\n",
      "Concourse              53.864583\n",
      "South Slope            52.297587\n",
      "Gowanus                49.578616\n",
      "Flushing               49.250323\n",
      "Prospect Heights       49.149510\n",
      "Windsor Terrace        48.846890\n",
      "Queens Village         48.720339\n",
      "Red Hook               48.674797\n",
      "Park Slope             46.983361\n",
      "St. Albans             46.963158\n",
      "Woodhaven              46.416107\n",
      "Mott Haven             46.180328\n",
      "Canarsie               45.806268\n",
      "Rockaway Beach         45.468750\n",
      "South Ozone Park       45.076923\n",
      "East Harlem            44.695511\n",
      "dtype: float64\n"
     ]
    }
   ],
   "source": [
    "total_reviews_by_neighbourhood = filtered_data.groupby('neighbourhood')['number of reviews'].sum()\n",
    "total_listings_by_neighbourhood = filtered_data['neighbourhood'].value_counts()\n",
    "reviews_per_listing_ratio = (total_reviews_by_neighbourhood / total_listings_by_neighbourhood).sort_values(ascending=False)\n",
    "print(reviews_per_listing_ratio.head(20))"
   ]
  },
  {
   "cell_type": "markdown",
   "metadata": {},
   "source": [
    "To evaluate the true demand in each neighborhood, we calculated the average number of reviews per listing. This metric normalizes the number of reviews based on how many properties exist in each area, offering a more accurate view of guest activity and listing performance.\n",
    "\n",
    "Unlike total reviews (which may be influenced by how many listings exist in an area), this approach shows how frequently each individual property is reviewed\n",
    "\n",
    "Key Findings:\n",
    "\n",
    "- **Concourse** shows a very high level of activity, with around 50 reviews per listing. This neighborhood also appears in the Top 10 Most Expensive Neighborhoods by Median Price, indicating both strong pricing and consistent demand.\n",
    "\n",
    "- **Prospect Heights** performs similarly, with approximately 49 reviews per listing, also appearing in the Top 10 Most Expensive. This confirms it as one of the most active and valuable areas.\n",
    "\n",
    "- **South Ozone Park** is particularly interesting: although it falls under the Bottom 10 Cheapest Neighborhoods by Median Price, it records a strong 45 reviews per listing. This suggests high activity levels at a lower cost, making it an efficient and potentially high-yield area.\n"
   ]
  },
  {
   "cell_type": "markdown",
   "metadata": {},
   "source": [
    "### **Conclusion**: Concourse – One of the Most Recommended Areas for Future Airbnb Hosts\n",
    "\n",
    "After a detailed data analysis combined with real estate research, **Concourse (Bronx, NYC)** has emerged as one of the most recommended neighborhoods for future property owners looking to list their homes on Airbnb.\n",
    "\n",
    "The area shows a **very high level of guest activity**, with an average of **~50 reviews per listing**, placing it among the most active neighborhoods in the city.\n",
    "\n",
    "At the same time, **property prices remain accessible** compared to other high-performing areas. As of early 2025, the median home price in Concourse is estimated between **$250,000 and $375,000**.\n",
    "\n",
    "This combination of **strong demand** and **low entry cost** makes Concourse a highly strategic choice for new hosts seeking long-term profitability on the Airbnb platform.\n"
   ]
  }
 ],
 "metadata": {
  "kernelspec": {
   "display_name": "Python 3",
   "language": "python",
   "name": "python3"
  },
  "language_info": {
   "codemirror_mode": {
    "name": "ipython",
    "version": 3
   },
   "file_extension": ".py",
   "mimetype": "text/x-python",
   "name": "python",
   "nbconvert_exporter": "python",
   "pygments_lexer": "ipython3",
   "version": "3.11.3"
  }
 },
 "nbformat": 4,
 "nbformat_minor": 2
}
